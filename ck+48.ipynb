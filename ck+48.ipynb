{
 "cells": [
  {
   "cell_type": "code",
   "execution_count": 1,
   "id": "5daa1344",
   "metadata": {},
   "outputs": [
    {
     "name": "stderr",
     "output_type": "stream",
     "text": [
      "Using TensorFlow backend.\n"
     ]
    }
   ],
   "source": [
    "import os, cv2, matplotlib as plt, numpy as np, pandas as pd,csv,glob\n",
    "from sklearn.preprocessing import LabelEncoder\n",
    "from sklearn.preprocessing import OneHotEncoder\n",
    "import array\n",
    "import tensorflow as tf\n",
    "import copy\n",
    "from tensorflow import keras\n",
    "from tensorflow.keras import layers\n",
    "import PIL\n",
    "from PIL import Image\n",
    "from sklearn.model_selection import train_test_split\n",
    "from sklearn.preprocessing import LabelBinarizer\n",
    "from tensorflow import keras\n",
    "from tensorflow.keras import layers\n",
    "import matplotlib.pyplot as plt\n",
    "from IPython.display import Image\n",
    "from tensorflow.keras.callbacks import TensorBoard\n",
    "from keras.utils import np_utils"
   ]
  },
  {
   "cell_type": "code",
   "execution_count": 2,
   "id": "a190b093",
   "metadata": {},
   "outputs": [
    {
     "name": "stdout",
     "output_type": "stream",
     "text": [
      "Found 750 files belonging to 5 classes.\n"
     ]
    }
   ],
   "source": [
    "data_path = 'D:\\Masters project\\CK+48'\n",
    "data_dir_list = os.listdir(data_path)\n",
    "\n",
    "img=tf.keras.preprocessing.image_dataset_from_directory(data_path, labels='inferred',label_mode='categorical',image_size=(48,\n",
    "    48))"
   ]
  },
  {
   "cell_type": "code",
   "execution_count": 3,
   "id": "e0234a8f",
   "metadata": {},
   "outputs": [],
   "source": [
    "img=img.shuffle(32)"
   ]
  },
  {
   "cell_type": "code",
   "execution_count": 4,
   "id": "3a7513a0",
   "metadata": {},
   "outputs": [],
   "source": [
    "\n",
    "test_ds = img.enumerate() \\\n",
    "                    .filter(lambda x,y: x % 4 == 0) \\\n",
    "                    .map(lambda x,y: y)\n",
    "\n",
    "train_ds = img.enumerate() \\\n",
    "                    .filter(lambda x,y: x % 4 != 0) \\\n",
    "                    .map(lambda x,y: y)\n"
   ]
  },
  {
   "cell_type": "code",
   "execution_count": null,
   "id": "bcea3801",
   "metadata": {},
   "outputs": [],
   "source": []
  },
  {
   "cell_type": "code",
   "execution_count": 5,
   "id": "1f5fe1c4",
   "metadata": {},
   "outputs": [],
   "source": [
    "data_augmentation = tf.keras.Sequential([\n",
    "  layers.experimental.preprocessing.RandomFlip(\"horizontal_and_vertical\"),\n",
    "  #layers.experimental.preprocessing.RandomRotation(0.4),\n",
    "])"
   ]
  },
  {
   "cell_type": "code",
   "execution_count": 6,
   "id": "f86311b0",
   "metadata": {},
   "outputs": [],
   "source": [
    "base_model = tf.keras.applications.ResNet50(input_shape=(48,48,3),\n",
    "                                               include_top=False,\n",
    "                                               weights='imagenet')"
   ]
  },
  {
   "cell_type": "code",
   "execution_count": 7,
   "id": "a9efcd20",
   "metadata": {},
   "outputs": [],
   "source": [
    "base_model.trainable = True"
   ]
  },
  {
   "cell_type": "code",
   "execution_count": 8,
   "id": "6d763bfa",
   "metadata": {},
   "outputs": [],
   "source": [
    "inputs = keras.Input(shape=(48, 48,3))\n",
    "x = data_augmentation(inputs)"
   ]
  },
  {
   "cell_type": "code",
   "execution_count": 9,
   "id": "e88a1b94",
   "metadata": {},
   "outputs": [
    {
     "name": "stdout",
     "output_type": "stream",
     "text": [
      "Model: \"model\"\n",
      "_________________________________________________________________\n",
      "Layer (type)                 Output Shape              Param #   \n",
      "=================================================================\n",
      "input_2 (InputLayer)         [(None, 48, 48, 3)]       0         \n",
      "_________________________________________________________________\n",
      "sequential (Sequential)      (None, 48, 48, 3)         0         \n",
      "_________________________________________________________________\n",
      "resnet50 (Functional)        (None, 2, 2, 2048)        23587712  \n",
      "_________________________________________________________________\n",
      "max_pooling2d (MaxPooling2D) (None, 1, 1, 2048)        0         \n",
      "_________________________________________________________________\n",
      "global_average_pooling2d (Gl (None, 2048)              0         \n",
      "_________________________________________________________________\n",
      "flatten (Flatten)            (None, 2048)              0         \n",
      "_________________________________________________________________\n",
      "dense (Dense)                (None, 128)               262272    \n",
      "_________________________________________________________________\n",
      "dropout (Dropout)            (None, 128)               0         \n",
      "_________________________________________________________________\n",
      "dense_1 (Dense)              (None, 64)                8256      \n",
      "_________________________________________________________________\n",
      "dropout_1 (Dropout)          (None, 64)                0         \n",
      "_________________________________________________________________\n",
      "dense_2 (Dense)              (None, 5)                 325       \n",
      "=================================================================\n",
      "Total params: 23,858,565\n",
      "Trainable params: 23,805,445\n",
      "Non-trainable params: 53,120\n",
      "_________________________________________________________________\n"
     ]
    }
   ],
   "source": [
    "\n",
    "x = base_model(x)\n",
    "x = keras.layers.MaxPooling2D(2)(x)\n",
    "x = keras.layers.GlobalAveragePooling2D()(x)\n",
    "x = keras.layers.Flatten()(x)\n",
    "x= keras.layers.Dense(128,activation='relu')(x)\n",
    "#x = keras.layers.GlobalAveragePooling2D(2,2)(x)\n",
    "x = keras.layers.Dropout(0.2)(x)\n",
    "x= keras.layers.Dense(64,activation='relu')(x)\n",
    "x = keras.layers.Dropout(0.2)(x)\n",
    "outputs = keras.layers.Dense(5,activation='softmax')(x)\n",
    "\n",
    "model = keras.Model(inputs, outputs)\n",
    "\n",
    "model.summary()"
   ]
  },
  {
   "cell_type": "code",
   "execution_count": 10,
   "id": "c60aa24f",
   "metadata": {},
   "outputs": [],
   "source": [
    "model.compile(optimizer=keras.optimizers.Adam(),\n",
    "              loss=keras.losses.CategoricalCrossentropy(), # default from_logits=False\n",
    "              metrics=[keras.metrics.CategoricalAccuracy()])"
   ]
  },
  {
   "cell_type": "code",
   "execution_count": 11,
   "id": "592183e1",
   "metadata": {},
   "outputs": [
    {
     "name": "stdout",
     "output_type": "stream",
     "text": [
      "Epoch 1/50\n",
      "18/18 [==============================] - 9s 114ms/step - loss: 2.4012 - categorical_accuracy: 0.4119\n",
      "Epoch 2/50\n",
      "18/18 [==============================] - 1s 61ms/step - loss: 1.2903 - categorical_accuracy: 0.6683\n",
      "Epoch 3/50\n",
      "18/18 [==============================] - 1s 61ms/step - loss: 0.6935 - categorical_accuracy: 0.7360\n",
      "Epoch 4/50\n",
      "18/18 [==============================] - 1s 61ms/step - loss: 0.4823 - categorical_accuracy: 0.8387 0s - loss: 0.4874 - cate\n",
      "Epoch 5/50\n",
      "18/18 [==============================] - 2s 63ms/step - loss: 0.4297 - categorical_accuracy: 0.8388\n",
      "Epoch 6/50\n",
      "18/18 [==============================] - 1s 62ms/step - loss: 0.3972 - categorical_accuracy: 0.8527\n",
      "Epoch 7/50\n",
      "18/18 [==============================] - 1s 61ms/step - loss: 0.3438 - categorical_accuracy: 0.8854\n",
      "Epoch 8/50\n",
      "18/18 [==============================] - 2s 66ms/step - loss: 0.3508 - categorical_accuracy: 0.8716\n",
      "Epoch 9/50\n",
      "18/18 [==============================] - 2s 66ms/step - loss: 0.1955 - categorical_accuracy: 0.9390\n",
      "Epoch 10/50\n",
      "18/18 [==============================] - 2s 68ms/step - loss: 0.2514 - categorical_accuracy: 0.9153\n",
      "Epoch 11/50\n",
      "18/18 [==============================] - 1s 61ms/step - loss: 0.3736 - categorical_accuracy: 0.9141\n",
      "Epoch 12/50\n",
      "18/18 [==============================] - 1s 60ms/step - loss: 0.9017 - categorical_accuracy: 0.6664\n",
      "Epoch 13/50\n",
      "18/18 [==============================] - 1s 62ms/step - loss: 0.6129 - categorical_accuracy: 0.7638\n",
      "Epoch 14/50\n",
      "18/18 [==============================] - 1s 61ms/step - loss: 0.8310 - categorical_accuracy: 0.6848\n",
      "Epoch 15/50\n",
      "18/18 [==============================] - 2s 68ms/step - loss: 0.4520 - categorical_accuracy: 0.8505\n",
      "Epoch 16/50\n",
      "18/18 [==============================] - 2s 64ms/step - loss: 0.6480 - categorical_accuracy: 0.8473\n",
      "Epoch 17/50\n",
      "18/18 [==============================] - 2s 61ms/step - loss: 0.3466 - categorical_accuracy: 0.8840\n",
      "Epoch 18/50\n",
      "18/18 [==============================] - 2s 63ms/step - loss: 0.4368 - categorical_accuracy: 0.8503\n",
      "Epoch 19/50\n",
      "18/18 [==============================] - 2s 63ms/step - loss: 0.3199 - categorical_accuracy: 0.9062\n",
      "Epoch 20/50\n",
      "18/18 [==============================] - 2s 67ms/step - loss: 0.4811 - categorical_accuracy: 0.8922\n",
      "Epoch 21/50\n",
      "18/18 [==============================] - 2s 65ms/step - loss: 0.2496 - categorical_accuracy: 0.9101\n",
      "Epoch 22/50\n",
      "18/18 [==============================] - 2s 65ms/step - loss: 0.2139 - categorical_accuracy: 0.9403\n",
      "Epoch 23/50\n",
      "18/18 [==============================] - 2s 62ms/step - loss: 0.2627 - categorical_accuracy: 0.9366\n",
      "Epoch 24/50\n",
      "18/18 [==============================] - 2s 62ms/step - loss: 0.3244 - categorical_accuracy: 0.9230\n",
      "Epoch 25/50\n",
      "18/18 [==============================] - 1s 64ms/step - loss: 0.2286 - categorical_accuracy: 0.9343\n",
      "Epoch 26/50\n",
      "18/18 [==============================] - 1s 62ms/step - loss: 0.1444 - categorical_accuracy: 0.9419\n",
      "Epoch 27/50\n",
      "18/18 [==============================] - 1s 61ms/step - loss: 0.1400 - categorical_accuracy: 0.9702\n",
      "Epoch 28/50\n",
      "18/18 [==============================] - 2s 62ms/step - loss: 0.1775 - categorical_accuracy: 0.9389 0s - loss: 0.1769 - categorical_accuracy: 0.93\n",
      "Epoch 29/50\n",
      "18/18 [==============================] - 1s 62ms/step - loss: 0.1354 - categorical_accuracy: 0.9629\n",
      "Epoch 30/50\n",
      "18/18 [==============================] - 2s 62ms/step - loss: 0.1626 - categorical_accuracy: 0.9477\n",
      "Epoch 31/50\n",
      "18/18 [==============================] - 1s 61ms/step - loss: 0.0985 - categorical_accuracy: 0.9739\n",
      "Epoch 32/50\n",
      "18/18 [==============================] - 1s 62ms/step - loss: 0.1108 - categorical_accuracy: 0.9672\n",
      "Epoch 33/50\n",
      "18/18 [==============================] - 2s 65ms/step - loss: 0.0686 - categorical_accuracy: 0.9838\n",
      "Epoch 34/50\n",
      "18/18 [==============================] - 2s 62ms/step - loss: 0.0976 - categorical_accuracy: 0.9783\n",
      "Epoch 35/50\n",
      "18/18 [==============================] - 1s 62ms/step - loss: 0.0685 - categorical_accuracy: 0.9873\n",
      "Epoch 36/50\n",
      "18/18 [==============================] - 1s 61ms/step - loss: 0.0889 - categorical_accuracy: 0.9569\n",
      "Epoch 37/50\n",
      "18/18 [==============================] - 2s 63ms/step - loss: 0.0791 - categorical_accuracy: 0.9741 0s - loss: 0.0768 - categorical_accuracy: \n",
      "Epoch 38/50\n",
      "18/18 [==============================] - 1s 64ms/step - loss: 0.1092 - categorical_accuracy: 0.9676\n",
      "Epoch 39/50\n",
      "18/18 [==============================] - 2s 63ms/step - loss: 0.0489 - categorical_accuracy: 0.9796\n",
      "Epoch 40/50\n",
      "18/18 [==============================] - 2s 63ms/step - loss: 0.0766 - categorical_accuracy: 0.9785 0s - loss: 0.0763 - categorical_accuracy: 0.97\n",
      "Epoch 41/50\n",
      "18/18 [==============================] - 1s 62ms/step - loss: 0.0858 - categorical_accuracy: 0.9893\n",
      "Epoch 42/50\n",
      "18/18 [==============================] - 2s 62ms/step - loss: 0.1889 - categorical_accuracy: 0.9493\n",
      "Epoch 43/50\n",
      "18/18 [==============================] - 2s 62ms/step - loss: 0.1232 - categorical_accuracy: 0.9629\n",
      "Epoch 44/50\n",
      "18/18 [==============================] - 1s 62ms/step - loss: 0.0611 - categorical_accuracy: 0.9822\n",
      "Epoch 45/50\n",
      "18/18 [==============================] - 2s 62ms/step - loss: 0.0406 - categorical_accuracy: 0.9945\n",
      "Epoch 46/50\n",
      "18/18 [==============================] - 1s 62ms/step - loss: 0.0599 - categorical_accuracy: 0.9733\n",
      "Epoch 47/50\n",
      "18/18 [==============================] - 2s 64ms/step - loss: 0.0486 - categorical_accuracy: 0.9820\n",
      "Epoch 48/50\n",
      "18/18 [==============================] - 2s 63ms/step - loss: 0.1210 - categorical_accuracy: 0.9746\n",
      "Epoch 49/50\n",
      "18/18 [==============================] - 2s 63ms/step - loss: 0.0253 - categorical_accuracy: 0.9958\n",
      "Epoch 50/50\n",
      "18/18 [==============================] - 1s 61ms/step - loss: 0.0485 - categorical_accuracy: 0.9776\n"
     ]
    },
    {
     "data": {
      "text/plain": [
       "<tensorflow.python.keras.callbacks.History at 0x1178e760548>"
      ]
     },
     "execution_count": 11,
     "metadata": {},
     "output_type": "execute_result"
    }
   ],
   "source": [
    "\n",
    "model.fit(train_ds, epochs=50)"
   ]
  },
  {
   "cell_type": "code",
   "execution_count": 12,
   "id": "15f71c53",
   "metadata": {},
   "outputs": [],
   "source": [
    "y_train=tf.concat([y for x, y in train_ds], axis=0)\n",
    "y_test=tf.concat([y for x, y in test_ds], axis=0)"
   ]
  },
  {
   "cell_type": "code",
   "execution_count": 13,
   "id": "3cf2736f",
   "metadata": {},
   "outputs": [],
   "source": [
    "#y_train"
   ]
  },
  {
   "cell_type": "code",
   "execution_count": 14,
   "id": "db6ec27e",
   "metadata": {},
   "outputs": [
    {
     "name": "stdout",
     "output_type": "stream",
     "text": [
      "18/18 [==============================] - 2s 26ms/step\n"
     ]
    }
   ],
   "source": [
    "\n",
    "train_pred = model.predict(train_ds,verbose=1)\n",
    "y_train_ground = tf.argmax(y_train, axis=1)\n",
    "y_train_pred = tf.argmax(train_pred, axis=1)"
   ]
  },
  {
   "cell_type": "code",
   "execution_count": 15,
   "id": "e7acac83",
   "metadata": {},
   "outputs": [
    {
     "name": "stdout",
     "output_type": "stream",
     "text": [
      "[[19  8 20 10 31]\n",
      " [11  7 20  7 20]\n",
      " [29 14 42 15 51]\n",
      " [16 10 17  7 30]\n",
      " [18 18 61 22 55]]\n"
     ]
    }
   ],
   "source": [
    "from sklearn.metrics import accuracy_score,confusion_matrix\n",
    "train_cmat = confusion_matrix(y_train_pred,y_train_ground)\n",
    "print(train_cmat)"
   ]
  },
  {
   "cell_type": "code",
   "execution_count": null,
   "id": "b013d89b",
   "metadata": {},
   "outputs": [],
   "source": []
  },
  {
   "cell_type": "code",
   "execution_count": null,
   "id": "b774aa03",
   "metadata": {},
   "outputs": [],
   "source": []
  },
  {
   "cell_type": "code",
   "execution_count": 18,
   "id": "2265450b",
   "metadata": {},
   "outputs": [
    {
     "name": "stdout",
     "output_type": "stream",
     "text": [
      "6/6 [==============================] - 1s 27ms/step - loss: 0.2093 - categorical_accuracy: 0.9583\n"
     ]
    },
    {
     "data": {
      "text/plain": [
       "[0.20927156507968903, 0.9583333134651184]"
      ]
     },
     "execution_count": 18,
     "metadata": {},
     "output_type": "execute_result"
    }
   ],
   "source": [
    "model.evaluate(test_ds)"
   ]
  },
  {
   "cell_type": "code",
   "execution_count": null,
   "id": "f9b98dd8",
   "metadata": {},
   "outputs": [],
   "source": []
  },
  {
   "cell_type": "code",
   "execution_count": null,
   "id": "f6df136d",
   "metadata": {},
   "outputs": [],
   "source": []
  }
 ],
 "metadata": {
  "kernelspec": {
   "display_name": "Python 3",
   "language": "python",
   "name": "python3"
  },
  "language_info": {
   "codemirror_mode": {
    "name": "ipython",
    "version": 3
   },
   "file_extension": ".py",
   "mimetype": "text/x-python",
   "name": "python",
   "nbconvert_exporter": "python",
   "pygments_lexer": "ipython3",
   "version": "3.7.4"
  }
 },
 "nbformat": 4,
 "nbformat_minor": 5
}
